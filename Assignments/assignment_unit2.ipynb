{
 "cells": [
  {
   "cell_type": "markdown",
   "source": [
    "# Assignment for Unit 2 content\n",
    "\n",
    "This exercise is intended to help you become familiar with the tools and libraries that you will be using throughout research and this VIP class. You can use the following resources to help you!\n",
    "\n",
    "- *https://huggingface.co/learn/audio-course/chapter2/audio_classification_pipeline*\n",
    "- *https://huggingface.co/learn/audio-course/chapter2/asr_pipeline*\n",
    "- The other notebooks in this repo on audio and datasets\n",
    "\n",
    "Your task is:\n",
    "1. Use Datasets to load the train split of the facebook/voxpopuli dataset in language of your choice in streaming mode.\n",
    "2. Get the third example from the train part of the dataset and explore it. Given the features that this example has, write at least 3 kinds of audio tasks you can perform with this dataset.\n",
    "3. Plot this example’s waveform and spectrogram.\n",
    "4. Go to HuggingFace Hub, explore pretrained models and find one that can be used for automatic speech recognition for the language that you have picked earlier. Instantiate a corresponding pipeline with the model you found, and transcribe the example.\n",
    "5. Write a few sentences comparing the transcription that you get from the pipeline to the transcription provided in the example.\n",
    "\n",
    "If you struggle with this exercise, feel free to take a peek at an example solution here: *https://colab.research.google.com/drive/1NGyo5wFpRj8TMfZOIuPaJHqyyXCITftc?usp=sharing*. \n",
    "\n",
    "Discovered something interesting? Found a cool model? Got a beautiful spectrogram? Post about your work in the group Teams chat!"
   ],
   "metadata": {
    "collapsed": false
   },
   "id": "3a297acdc72a28eb"
  },
  {
   "cell_type": "code",
   "execution_count": null,
   "outputs": [],
   "source": [],
   "metadata": {
    "collapsed": false
   },
   "id": "2bd0ea46ac4a2ecb"
  }
 ],
 "metadata": {
  "kernelspec": {
   "display_name": "Python 3",
   "language": "python",
   "name": "python3"
  },
  "language_info": {
   "codemirror_mode": {
    "name": "ipython",
    "version": 2
   },
   "file_extension": ".py",
   "mimetype": "text/x-python",
   "name": "python",
   "nbconvert_exporter": "python",
   "pygments_lexer": "ipython2",
   "version": "2.7.6"
  }
 },
 "nbformat": 4,
 "nbformat_minor": 5
}
