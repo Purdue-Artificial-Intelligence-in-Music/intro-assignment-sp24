{
 "cells": [
  {
   "cell_type": "markdown",
   "source": [],
   "metadata": {
    "collapsed": false
   },
   "id": "2b6c343ec319505a"
  },
  {
   "cell_type": "markdown",
   "source": [
    "# Assignment for Unit 4 content\n",
    "\n",
    "This assignment is meant to ensure you have experience with fine-tuning a pretrained model for an audio classification task. You can use the following resources to help you:\n",
    "- *https://huggingface.co/learn/audio-course/chapter4/classification_models*\n",
    "- *https://huggingface.co/learn/audio-course/chapter4/fine-tuning*\n",
    "- *https://huggingface.co/learn/audio-course/chapter4/demo*\n",
    "- Any of the previous notebooks\n",
    "\n",
    "The HuggingFace tutorials above demonstrated how to fine-tune a Hubert model on marsyas/gtzan dataset for music classification. Their example achieved 83% accuracy. Your task is to improve upon this accuracy metric.\n",
    "\n",
    "Feel free to choose any model on the HuggingFace Hub that you think is suitable for audio classification. However, you should use the exact same dataset (marsyas/gtzan) to build your own classifier.\n",
    "\n",
    "Your goal is to achieve 87% accuracy on this dataset with your classifier. You can choose the exact same model, and play with the training hyperparameters, or pick an entirely different model - it’s up to you!\n",
    "\n",
    "Here are some additional resources that you may find helpful when working on this exercise:\n",
    "\n",
    "Audio classification task guide in Transformers documentation: \n",
    "*https://huggingface.co/docs/transformers/tasks/audio_classification*\n",
    "Hubert model documentation: \n",
    "*https://huggingface.co/docs/transformers/model_doc/hubert*\n",
    "M-CTC-T model documentation: \n",
    "*https://huggingface.co/docs/transformers/model_doc/mctct*\n",
    "Audio Spectrogram Transformer documentation: \n",
    "*https://huggingface.co/docs/transformers/model_doc/audio-spectrogram-transformer*\n",
    "Wav2Vec2 documentation:\n",
    "*https://huggingface.co/docs/transformers/model_doc/wav2vec2*\n",
    "\n",
    "This exercise can be hard for people new to machine learning/audio programming! If you are struggling, make sure to ask for help in the group Teams chat!"
   ],
   "metadata": {
    "collapsed": false
   },
   "id": "3f529da495c687fc"
  },
  {
   "cell_type": "code",
   "execution_count": null,
   "outputs": [],
   "source": [],
   "metadata": {
    "collapsed": false
   },
   "id": "c3ab3e0cb5750b63"
  }
 ],
 "metadata": {
  "kernelspec": {
   "display_name": "Python 3",
   "language": "python",
   "name": "python3"
  },
  "language_info": {
   "codemirror_mode": {
    "name": "ipython",
    "version": 2
   },
   "file_extension": ".py",
   "mimetype": "text/x-python",
   "name": "python",
   "nbconvert_exporter": "python",
   "pygments_lexer": "ipython2",
   "version": "2.7.6"
  }
 },
 "nbformat": 4,
 "nbformat_minor": 5
}
