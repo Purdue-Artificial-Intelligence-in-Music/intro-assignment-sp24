{
 "cells": [
  {
   "cell_type": "markdown",
   "source": [
    "# Assignment for Unit 1 content\n",
    "\n",
    "This assignment is designed to make sure you have proficiency with viewing and manipulating sounds.      "
   ],
   "metadata": {
    "collapsed": false
   },
   "id": "72bf24632674e2e"
  },
  {
   "cell_type": "code",
   "execution_count": 1,
   "outputs": [],
   "source": [
    "import librosa  # For manipulating audio\n",
    "import numpy as np\n",
    "from IPython.display import Audio  # For displaying audio"
   ],
   "metadata": {
    "collapsed": false,
    "ExecuteTime": {
     "end_time": "2024-01-06T18:20:24.154931300Z",
     "start_time": "2024-01-06T18:20:24.067680900Z"
    }
   },
   "id": "31665a9f868c66da"
  },
  {
   "cell_type": "markdown",
   "source": [
    "## Viewing audio\n",
    "\n",
    "Choose a different example librosa file than the one used in the tutorial. \n",
    "1. Load it into an array using librosa. Print the first 20 elements of the array and the sample rate.\n",
    "2. Display the audio's time-domain representation.\n",
    "3. Display the discrete Fourier transform of its first 0.2 seconds of audio (this is likely more than 4096 samples. How can you compute the number of samples you need)? \n",
    "4. Identify the most prominent note in the first 0.2 seconds of audio.\n",
    "5. Divide the sample rate by 2 (without resampling the audio) and recompute/display the new Fourier transform. What happens in the graph?\n",
    "6. Display its mel-spectrogram. Write one sentence about how the spectrogram represents the changes in the sound over time."
   ],
   "metadata": {
    "collapsed": false
   },
   "id": "65059457775cee27"
  },
  {
   "cell_type": "code",
   "execution_count": 1,
   "outputs": [],
   "source": [],
   "metadata": {
    "collapsed": false,
    "ExecuteTime": {
     "end_time": "2024-01-06T18:20:24.166778600Z",
     "start_time": "2024-01-06T18:20:24.156728700Z"
    }
   },
   "id": "44c0e4507266ffa2"
  },
  {
   "cell_type": "markdown",
   "source": [
    "## Working with datasets\n",
    "\n",
    "Choose a different dataset than the one used in the tutorial. Load it using the datasets library and print some of the attributes of a random example. If necessary, convert them to string representations."
   ],
   "metadata": {
    "collapsed": false
   },
   "id": "fa2b27e6034bff17"
  },
  {
   "cell_type": "code",
   "execution_count": null,
   "outputs": [],
   "source": [],
   "metadata": {
    "collapsed": false
   },
   "id": "2df1080d23d113b"
  }
 ],
 "metadata": {
  "kernelspec": {
   "display_name": "Python 3",
   "language": "python",
   "name": "python3"
  },
  "language_info": {
   "codemirror_mode": {
    "name": "ipython",
    "version": 2
   },
   "file_extension": ".py",
   "mimetype": "text/x-python",
   "name": "python",
   "nbconvert_exporter": "python",
   "pygments_lexer": "ipython2",
   "version": "2.7.6"
  }
 },
 "nbformat": 4,
 "nbformat_minor": 5
}
